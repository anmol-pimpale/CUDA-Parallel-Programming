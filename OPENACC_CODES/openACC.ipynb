{
  "nbformat": 4,
  "nbformat_minor": 0,
  "metadata": {
    "colab": {
      "provenance": [],
      "gpuType": "T4"
    },
    "kernelspec": {
      "name": "python3",
      "display_name": "Python 3"
    },
    "language_info": {
      "name": "python"
    },
    "accelerator": "GPU"
  },
  "cells": [
    {
      "cell_type": "code",
      "execution_count": 1,
      "metadata": {
        "colab": {
          "base_uri": "https://localhost:8080/"
        },
        "id": "cg5OXs4Bh0jy",
        "outputId": "ec004b28-83dd-4908-e94e-7f1a617d82f1"
      },
      "outputs": [
        {
          "output_type": "stream",
          "name": "stdout",
          "text": [
            "  % Total    % Received % Xferd  Average Speed   Time    Time     Time  Current\n",
            "                                 Dload  Upload   Total   Spent    Left  Speed\n",
            "\r  0     0    0     0    0     0      0      0 --:--:-- --:--:-- --:--:--     0\r100  1626  100  1626    0     0   9036      0 --:--:-- --:--:-- --:--:--  9083\n"
          ]
        }
      ],
      "source": [
        "!curl https://developer.download.nvidia.com/hpc-sdk/ubuntu/DEB-GPG-KEY-NVIDIA-HPC-SDK | sudo gpg --dearmor -o /usr/share/keyrings/nvidia-hpcsdk-archive-keyring.gpg"
      ]
    },
    {
      "cell_type": "code",
      "source": [
        "! echo 'deb [signed-by=/usr/share/keyrings/nvidia-hpcsdk-archive-keyring.gpg] https://developer.download.nvidia.com/hpc-sdk/ubuntu/amd64 /' | sudo tee /etc/apt/sources.list.d/nvhpc.list"
      ],
      "metadata": {
        "colab": {
          "base_uri": "https://localhost:8080/"
        },
        "id": "iVgoiKyQiGoj",
        "outputId": "b172a6d9-44ba-449a-ba75-9599ae1b90a0"
      },
      "execution_count": 2,
      "outputs": [
        {
          "output_type": "stream",
          "name": "stdout",
          "text": [
            "deb [signed-by=/usr/share/keyrings/nvidia-hpcsdk-archive-keyring.gpg] https://developer.download.nvidia.com/hpc-sdk/ubuntu/amd64 /\n"
          ]
        }
      ]
    },
    {
      "cell_type": "code",
      "source": [
        "!sudo apt-get update -y"
      ],
      "metadata": {
        "colab": {
          "base_uri": "https://localhost:8080/"
        },
        "id": "HpfmA_xQiVZO",
        "outputId": "2852cb45-e16f-46c2-f18a-cb5b92919342"
      },
      "execution_count": 3,
      "outputs": [
        {
          "output_type": "stream",
          "name": "stdout",
          "text": [
            "\r0% [Working]\r            \rGet:1 https://cloud.r-project.org/bin/linux/ubuntu jammy-cran40/ InRelease [3,626 B]\n",
            "Hit:2 https://developer.download.nvidia.com/compute/cuda/repos/ubuntu2204/x86_64  InRelease\n",
            "Get:3 https://developer.download.nvidia.com/hpc-sdk/ubuntu/amd64  InRelease [2,126 B]\n",
            "Get:4 http://security.ubuntu.com/ubuntu jammy-security InRelease [110 kB]\n",
            "Hit:5 http://archive.ubuntu.com/ubuntu jammy InRelease\n",
            "Get:6 http://archive.ubuntu.com/ubuntu jammy-updates InRelease [119 kB]\n",
            "Get:7 https://developer.download.nvidia.com/hpc-sdk/ubuntu/amd64  Packages [22.7 kB]\n",
            "Hit:8 https://ppa.launchpadcontent.net/c2d4u.team/c2d4u4.0+/ubuntu jammy InRelease\n",
            "Hit:9 https://ppa.launchpadcontent.net/deadsnakes/ppa/ubuntu jammy InRelease\n",
            "Hit:10 https://ppa.launchpadcontent.net/graphics-drivers/ppa/ubuntu jammy InRelease\n",
            "Get:11 http://security.ubuntu.com/ubuntu jammy-security/universe amd64 Packages [1,084 kB]\n",
            "Get:12 http://archive.ubuntu.com/ubuntu jammy-backports InRelease [109 kB]\n",
            "Hit:13 https://ppa.launchpadcontent.net/ubuntugis/ppa/ubuntu jammy InRelease\n",
            "Get:14 http://archive.ubuntu.com/ubuntu jammy-updates/main amd64 Packages [2,125 kB]\n",
            "Get:15 http://archive.ubuntu.com/ubuntu jammy-updates/universe amd64 Packages [1,376 kB]\n",
            "Get:16 http://archive.ubuntu.com/ubuntu jammy-backports/main amd64 Packages [110 kB]\n",
            "Get:17 http://archive.ubuntu.com/ubuntu jammy-backports/universe amd64 Packages [35.0 kB]\n",
            "Get:18 http://security.ubuntu.com/ubuntu jammy-security/main amd64 Packages [1,854 kB]\n",
            "Fetched 6,951 kB in 2s (2,950 kB/s)\n",
            "Reading package lists... Done\n"
          ]
        }
      ]
    },
    {
      "cell_type": "code",
      "source": [
        "!sudo apt-get install -y nvhpc-24-5"
      ],
      "metadata": {
        "colab": {
          "base_uri": "https://localhost:8080/"
        },
        "id": "5K7oPX9xibVQ",
        "outputId": "f899ea9f-739c-4844-eb45-1d0c4c57b58b"
      },
      "execution_count": 4,
      "outputs": [
        {
          "output_type": "stream",
          "name": "stdout",
          "text": [
            "Reading package lists... Done\n",
            "Building dependency tree... Done\n",
            "Reading state information... Done\n",
            "The following NEW packages will be installed:\n",
            "  nvhpc-24-5\n",
            "0 upgraded, 1 newly installed, 0 to remove and 47 not upgraded.\n",
            "Need to get 4,237 MB of archives.\n",
            "After this operation, 14.2 GB of additional disk space will be used.\n",
            "Get:1 https://developer.download.nvidia.com/hpc-sdk/ubuntu/amd64  nvhpc-24-5 24.5 [4,237 MB]\n",
            "Fetched 4,237 MB in 52s (81.7 MB/s)\n",
            "debconf: unable to initialize frontend: Dialog\n",
            "debconf: (No usable dialog-like program is installed, so the dialog based frontend cannot be used. at /usr/share/perl5/Debconf/FrontEnd/Dialog.pm line 78, <> line 1.)\n",
            "debconf: falling back to frontend: Readline\n",
            "debconf: unable to initialize frontend: Readline\n",
            "debconf: (This frontend requires a controlling tty.)\n",
            "debconf: falling back to frontend: Teletype\n",
            "dpkg-preconfigure: unable to re-open stdin: \n",
            "Selecting previously unselected package nvhpc-24-5.\n",
            "(Reading database ... 121918 files and directories currently installed.)\n",
            "Preparing to unpack .../nvhpc-24-5_24.5_amd64.deb ...\n",
            "Unpacking nvhpc-24-5 (24.5) ...\n",
            "Setting up nvhpc-24-5 (24.5) ...\n"
          ]
        }
      ]
    },
    {
      "cell_type": "code",
      "source": [
        "!/opt/nvidia/hpc_sdk/Linux_x86_64/24.5/compilers/bin/nvaccelinfo"
      ],
      "metadata": {
        "colab": {
          "base_uri": "https://localhost:8080/"
        },
        "id": "xm_Zx1Q6mHma",
        "outputId": "d7e7cac4-4960-4ed4-9642-339d764419b7"
      },
      "execution_count": 5,
      "outputs": [
        {
          "output_type": "stream",
          "name": "stdout",
          "text": [
            "\n",
            "CUDA Driver Version:           12020\n",
            "NVRM version:                  NVIDIA UNIX x86_64 Kernel Module  535.104.05  Sat Aug 19 01:15:15 UTC 2023\n",
            "\n",
            "Device Number:                 0\n",
            "Device Name:                   Tesla T4\n",
            "Device Revision Number:        7.5\n",
            "Global Memory Size:            15835660288\n",
            "Number of Multiprocessors:     40\n",
            "Concurrent Copy and Execution: Yes\n",
            "Total Constant Memory:         65536\n",
            "Total Shared Memory per Block: 49152\n",
            "Registers per Block:           65536\n",
            "Warp Size:                     32\n",
            "Maximum Threads per Block:     1024\n",
            "Maximum Block Dimensions:      1024, 1024, 64\n",
            "Maximum Grid Dimensions:       2147483647 x 65535 x 65535\n",
            "Maximum Memory Pitch:          2147483647B\n",
            "Texture Alignment:             512B\n",
            "Clock Rate:                    1590 MHz\n",
            "Execution Timeout:             No\n",
            "Integrated Device:             No\n",
            "Can Map Host Memory:           Yes\n",
            "Compute Mode:                  default\n",
            "Concurrent Kernels:            Yes\n",
            "ECC Enabled:                   Yes\n",
            "Memory Clock Rate:             5001 MHz\n",
            "Memory Bus Width:              256 bits\n",
            "L2 Cache Size:                 4194304 bytes\n",
            "Max Threads Per SMP:           1024\n",
            "Async Engines:                 3\n",
            "Unified Addressing:            Yes\n",
            "Managed Memory:                Yes\n",
            "Concurrent Managed Memory:     Yes\n",
            "Preemption Supported:          Yes\n",
            "Cooperative Launch:            Yes\n",
            "Default Target:                cc75\n"
          ]
        }
      ]
    },
    {
      "cell_type": "code",
      "source": [
        "%%writefile openAcc_first.c\n",
        "#include <stdio.h>\n",
        "#define N 1000\n",
        "int array[N];\n",
        "int main() {\n",
        "#pragma acc parallel loop copy(array[0:N])\n",
        "   for(int i = 0; i < N; i++) {\n",
        "      array[i] = 3.0;\n",
        "   }\n",
        "   printf(\"Success!\\n\");\n",
        "}\n",
        ""
      ],
      "metadata": {
        "colab": {
          "base_uri": "https://localhost:8080/"
        },
        "id": "dCwtNKdamNdK",
        "outputId": "3b4eb4c8-0f23-48a4-9e8b-22b923d3d6d8"
      },
      "execution_count": 6,
      "outputs": [
        {
          "output_type": "stream",
          "name": "stdout",
          "text": [
            "Writing openAcc_first.c\n"
          ]
        }
      ]
    },
    {
      "cell_type": "code",
      "source": [
        "!/opt/nvidia/hpc_sdk/Linux_x86_64/24.5/compilers/bin/nvc -acc openAcc_first.c -o openAcc_first"
      ],
      "metadata": {
        "id": "860VzAg5mimh"
      },
      "execution_count": 8,
      "outputs": []
    },
    {
      "cell_type": "code",
      "source": [
        "!./openAcc_first"
      ],
      "metadata": {
        "colab": {
          "base_uri": "https://localhost:8080/"
        },
        "id": "KJBELqCrrfOa",
        "outputId": "065876ec-3b96-4d14-d061-a56ba4c2c28d"
      },
      "execution_count": 13,
      "outputs": [
        {
          "output_type": "stream",
          "name": "stdout",
          "text": [
            "Success!\n"
          ]
        }
      ]
    },
    {
      "cell_type": "code",
      "source": [
        "!./openAcc_first"
      ],
      "metadata": {
        "colab": {
          "base_uri": "https://localhost:8080/"
        },
        "id": "inTXY6qqsmU5",
        "outputId": "a3eb2ecd-c5ca-4ed1-9bd8-ce7907e899c2"
      },
      "execution_count": 37,
      "outputs": [
        {
          "output_type": "stream",
          "name": "stdout",
          "text": [
            "Success!\n"
          ]
        }
      ]
    },
    {
      "cell_type": "code",
      "source": [
        "%%writefile openacc_array.c\n",
        "#include <stdio.h>\n",
        "#define N 10\n",
        "int array[N];\n",
        "int main() {\n",
        "#pragma acc parallel loop copy(array[0:N])\n",
        "   for(int i = 0; i < N; i++) {\n",
        "      array[i] = i;\n",
        "      printf(\"%d\\n\",array[i]);\n",
        "   }\n",
        "   printf(\"Success!\\n\");\n",
        "}"
      ],
      "metadata": {
        "colab": {
          "base_uri": "https://localhost:8080/"
        },
        "id": "yCPKUOXA86-c",
        "outputId": "1ffc7afa-e0c6-48fd-c597-a0e12f3c23fe"
      },
      "execution_count": 46,
      "outputs": [
        {
          "output_type": "stream",
          "name": "stdout",
          "text": [
            "Writing openacc_array.c\n"
          ]
        }
      ]
    },
    {
      "cell_type": "code",
      "source": [
        "!/opt/nvidia/hpc_sdk/Linux_x86_64/24.5/compilers/bin/nvc -acc openacc_array.c -o openacc_array"
      ],
      "metadata": {
        "id": "iUlnfQx58-kV"
      },
      "execution_count": 47,
      "outputs": []
    },
    {
      "cell_type": "code",
      "source": [
        "!./openacc_array"
      ],
      "metadata": {
        "colab": {
          "base_uri": "https://localhost:8080/"
        },
        "id": "4pb3jOGR9JC7",
        "outputId": "6bd522cd-ab00-47a2-b349-cb5119f16afb"
      },
      "execution_count": 48,
      "outputs": [
        {
          "output_type": "stream",
          "name": "stdout",
          "text": [
            "2\n",
            "7\n",
            "1\n",
            "6\n",
            "3\n",
            "0\n",
            "8\n",
            "5\n",
            "4\n",
            "9\n",
            "Success!\n"
          ]
        }
      ]
    },
    {
      "cell_type": "code",
      "source": [
        "ls-l"
      ],
      "metadata": {
        "colab": {
          "base_uri": "https://localhost:8080/"
        },
        "id": "-Q9C8EfiryHi",
        "outputId": "086b74db-ac5b-494d-8bf9-1cdd11853cb5"
      },
      "execution_count": 12,
      "outputs": [
        {
          "output_type": "stream",
          "name": "stdout",
          "text": [
            "total 36\n",
            "-rwxr-xr-x 1 root root 28208 May 29 05:01 \u001b[0m\u001b[01;32mopenAcc_first\u001b[0m*\n",
            "-rw-r--r-- 1 root root   194 May 29 04:40 openAcc_first.c\n",
            "drwxr-xr-x 1 root root  4096 May 24 13:22 \u001b[01;34msample_data\u001b[0m/\n"
          ]
        }
      ]
    },
    {
      "cell_type": "code",
      "source": [
        "%%writefile openacc_second.c\n",
        "#include<stdio.h>\n",
        "#include<stdlib.h>\n",
        "\n",
        "#define N 100\n",
        "\n",
        "void vecaddgpu(float *restrict r,float *a,float *b,int n){\n",
        "  #pragma acc kernels loop copyin(a[0:n],b[0:n])copyout(r[0:n])\n",
        "  for(int i=0;i<n;++i)r[i]=a[i]+b[i];\n",
        "}\n",
        "int main(int n,int argc,char* argv[]){\n",
        "  float * a;/*input vector 1*/\n",
        "  float * b;/*input vector 2*/\n",
        "  float * r;/*output vector */\n",
        "  float * e;/*expected output value*/\n",
        "  int i,errs;\n",
        "  a=(float*)malloc(N*sizeof(float));\n",
        "  b=(float*)malloc(N*sizeof(float));\n",
        "  r=(float*)malloc(N*sizeof(float));\n",
        "  e=(float*)malloc(N*sizeof(float));\n",
        "  for(int i=0;i<n;++i){\n",
        "    a[i]=(float)(i+1);\n",
        "    b[i]=(float)(1000*i);\n",
        "  }\n",
        "  /*computr on gpu */\n",
        "  vecaddgpu(r,a,b,N);\n",
        "\n",
        "  /*compute on the host to compare */\n",
        "  for(i=0;i<n;++i) e[i]=a[i]+b[i];\n",
        "\n",
        "  /* comprae the result */\n",
        "  errs=0;\n",
        "  for(i=0;i<n;++i){\n",
        "    if(r[i]!=e[i]){\n",
        "      ++errs;\n",
        "    }\n",
        "  }\n",
        "  printf(\"%d errors found\\n\",errs);\n",
        "  return errs;\n",
        "}"
      ],
      "metadata": {
        "colab": {
          "base_uri": "https://localhost:8080/"
        },
        "id": "JDcQI_LmtZv_",
        "outputId": "9d702d61-8851-4cb9-df47-ad9534a77757"
      },
      "execution_count": 21,
      "outputs": [
        {
          "output_type": "stream",
          "name": "stdout",
          "text": [
            "Overwriting openacc_second.c\n"
          ]
        }
      ]
    },
    {
      "cell_type": "code",
      "source": [
        "!/opt/nvidia/hpc_sdk/Linux_x86_64/24.5/compilers/bin/nvc -acc openacc_second.c -o openacc_second"
      ],
      "metadata": {
        "id": "kRxPVRi_xwnF"
      },
      "execution_count": 22,
      "outputs": []
    },
    {
      "cell_type": "code",
      "source": [
        "!./openacc_second"
      ],
      "metadata": {
        "colab": {
          "base_uri": "https://localhost:8080/"
        },
        "id": "A2-NS4apykdV",
        "outputId": "cded43df-8834-4d45-c74f-5e27ba5a7a76"
      },
      "execution_count": 23,
      "outputs": [
        {
          "output_type": "stream",
          "name": "stdout",
          "text": [
            "0 errors found\n"
          ]
        }
      ]
    },
    {
      "cell_type": "code",
      "source": [
        "%%writefile openacc_third.c\n",
        "#include<stdio.h>\n",
        "\n",
        "int main(){\n",
        "  int n=100;\n",
        "  float A[n],B[n];\n",
        "\n",
        "  //initialze arrays Anad B on the host(cpu)\n",
        "  for(int i=0;i<n;++i){\n",
        "    A[i]=i*0.1f;\n",
        "    B[i]=i*0.1f;\n",
        "  }\n",
        "  //transer the data to the gpu\n",
        "  #pragma acc enter data copyin(A,B)\n",
        "\n",
        "  //first data region:calculate element wise sum(A+B) On device\n",
        "  #pragma acc data present(A,B)\n",
        "  {\n",
        "    for(int i=0;i<n;++i){\n",
        "      A[i]=A[i]+B[i];\n",
        "    }\n",
        "  }\n",
        "//second data region :square each element of A on device(using present agian)\n",
        "#pragma acc data present(A)\n",
        "{\n",
        "  for(int i=0;i<n;++i){\n",
        "      A[i]=A[i] * A[i];\n",
        "}\n",
        "}\n",
        "//transer final result in A back to host\n",
        "#pragma acc exit data copyout(A)\n",
        "\n",
        "//print final results(now accesable on the host)\n",
        "printf(\"square element of (A+B):\\n\");\n",
        "for(int i=0;i<n;++i){\n",
        "  printf(\"%f\",A[i]);\n",
        "}\n",
        "printf(\"\\n\");\n",
        "return 0;\n",
        "}"
      ],
      "metadata": {
        "colab": {
          "base_uri": "https://localhost:8080/"
        },
        "id": "qRe7NOze1JHf",
        "outputId": "6f546cb8-0f68-4697-badf-7ca7b1b45ac1"
      },
      "execution_count": 35,
      "outputs": [
        {
          "output_type": "stream",
          "name": "stdout",
          "text": [
            "Overwriting openacc_third.c\n"
          ]
        }
      ]
    },
    {
      "cell_type": "code",
      "source": [
        "!/opt/nvidia/hpc_sdk/Linux_x86_64/24.5/compilers/bin/nvc -acc openacc_third.c -o openacc_third"
      ],
      "metadata": {
        "id": "tb9fuh_e4Cfh"
      },
      "execution_count": 36,
      "outputs": []
    },
    {
      "cell_type": "code",
      "source": [
        "!./openacc_third"
      ],
      "metadata": {
        "colab": {
          "base_uri": "https://localhost:8080/"
        },
        "id": "n8tQugn55CUV",
        "outputId": "86b08885-25af-4c30-a5e0-c22b1d0d3972"
      },
      "execution_count": 38,
      "outputs": [
        {
          "output_type": "stream",
          "name": "stdout",
          "text": [
            "square element of (A+B):\n",
            "0.0000000.1000000.2000000.3000000.4000000.5000000.6000000.7000000.8000000.9000001.0000001.1000001.2000001.3000001.4000001.5000001.6000001.7000001.8000001.9000002.0000002.1000002.2000002.3000002.4000002.5000002.6000002.7000002.8000002.9000003.0000003.1000003.2000003.3000003.4000003.5000003.6000003.7000003.8000003.9000004.0000004.1000004.2000004.3000004.4000004.5000004.6000004.7000004.8000004.9000005.0000005.1000005.2000005.3000005.4000005.5000005.6000005.7000005.8000005.9000006.0000006.1000006.2000006.3000006.4000006.5000006.6000006.7000006.8000006.9000007.0000007.1000007.2000007.3000007.4000007.5000007.6000007.7000007.8000007.9000008.0000008.1000008.2000008.3000008.4000018.5000008.6000008.7000008.8000008.9000019.0000009.1000009.2000009.3000009.4000019.5000009.6000009.7000009.8000009.900001\n"
          ]
        }
      ]
    },
    {
      "cell_type": "code",
      "source": [
        "%%writefile cuda_assignment29may.cu\n",
        "/*for the 'present' data clause code example ,write corresponding cod eincuda in bothe codes file add timing code ,compare performance for 10 lakh and 1 crore elements */\n",
        "#include <stdio.h>\n",
        "\n",
        "__global__ void kernel1(float *A, float *B, int n) {\n",
        "  int idx = blockIdx.x * blockDim.x + threadIdx.x;\n",
        "  if (idx < n) {\n",
        "    A[idx] = A[idx] + B[idx];\n",
        "  }\n",
        "}\n",
        "\n",
        "__global__ void kernel2(float *A, int n) {\n",
        "  int idx = blockIdx.x * blockDim.x + threadIdx.x;\n",
        "  if (idx < n) {\n",
        "    A[idx] = A[idx] * A[idx];\n",
        "  }\n",
        "}\n",
        "\n",
        "int main() {\n",
        "  int n = 100;\n",
        "  float *A, *B;\n",
        "  cudaMalloc((void **)&A, n * sizeof(float));\n",
        "  cudaMalloc((void **)&B, n * sizeof(float));\n",
        "\n",
        "  // Initialize arrays A and B on the host (CPU)\n",
        "  for (int i = 0; i < n; ++i) {\n",
        "    A[i] = i * 0.1f;\n",
        "    B[i] = i * 0.1f;\n",
        "  }\n",
        "\n",
        "  // Copy data from host to device\n",
        "  cudaMemcpy(A, A, n * sizeof(float), cudaMemcpyHostToDevice);\n",
        "  cudaMemcpy(B, B, n * sizeof(float), cudaMemcpyHostToDevice);\n",
        "\n",
        "  // Launch kernel 1: calculate element-wise sum (A+B) on device\n",
        "  int blockSize = 256;\n",
        "  int numBlocks = (n + blockSize - 1) / blockSize;\n",
        "  kernel1<<<numBlocks, blockSize>>>(A, B, n);\n",
        "\n",
        "  // Launch kernel 2: square each element of A on device\n",
        "  kernel2<<<numBlocks, blockSize>>>(A, n);\n",
        "\n",
        "  // Copy final result in A back to host\n",
        "  cudaMemcpy(A, A, n * sizeof(float), cudaMemcpyDeviceToHost);\n",
        "\n",
        "  // Print final results (now accessible on the host)\n",
        "  printf(\"Square elements of (A+B):\\n\");\n",
        "  for (int i = 0; i < n; ++i) {\n",
        "    printf(\"%f \", A[i]);\n",
        "  }\n",
        "  printf(\"\\n\");\n",
        "\n",
        "  cudaFree(A);\n",
        "  cudaFree(B);\n",
        "\n",
        "  return 0;\n",
        "}"
      ],
      "metadata": {
        "colab": {
          "base_uri": "https://localhost:8080/"
        },
        "id": "wGdEYk-c7Qcz",
        "outputId": "46a68572-50d3-4b7c-a3ab-b83009a0c4c7"
      },
      "execution_count": 43,
      "outputs": [
        {
          "output_type": "stream",
          "name": "stdout",
          "text": [
            "Overwriting cuda_assignment29may.cu\n"
          ]
        }
      ]
    },
    {
      "cell_type": "code",
      "source": [
        "!nvcc cuda_assignment29may.cu -o cuda_assig_29may"
      ],
      "metadata": {
        "id": "BPf1MRYI7hsr"
      },
      "execution_count": 49,
      "outputs": []
    },
    {
      "cell_type": "code",
      "source": [
        "!./cuda_assig_29may"
      ],
      "metadata": {
        "id": "I9ARt73q7oFS"
      },
      "execution_count": 51,
      "outputs": []
    }
  ]
}